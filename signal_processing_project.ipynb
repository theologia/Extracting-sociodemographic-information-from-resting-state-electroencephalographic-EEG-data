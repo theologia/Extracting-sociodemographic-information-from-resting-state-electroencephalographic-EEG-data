{
  "cells": [
    {
      "cell_type": "code",
      "execution_count": null,
      "id": "54d5ade3",
      "metadata": {
        "id": "54d5ade3",
        "outputId": "46622dfd-8d21-4c56-9c70-646e8ad246ea"
      },
      "outputs": [
        {
          "name": "stdout",
          "output_type": "stream",
          "text": [
            "Once deleted, variables cannot be recovered. Proceed (y/[n])? y\n"
          ]
        }
      ],
      "source": [
        "#reset"
      ]
    },
    {
      "cell_type": "code",
      "execution_count": null,
      "id": "a5060307",
      "metadata": {
        "id": "a5060307"
      },
      "outputs": [],
      "source": [
        "import scipy.io\n",
        "import numpy as np\n",
        "import seaborn as sns\n",
        "import matplotlib.pyplot as plt\n",
        "import pandas as pd\n",
        "from sklearn.model_selection import train_test_split\n",
        "from sklearn.feature_selection import SelectKBest, f_classif\n",
        "from sklearn.metrics import precision_score, recall_score, f1_score, accuracy_score, confusion_matrix\n",
        "from sklearn.svm import SVC\n",
        "from sklearn.model_selection import cross_val_score, KFold\n",
        "from sklearn.neighbors import KNeighborsClassifier\n",
        "from sklearn.ensemble import RandomForestClassifier\n",
        "from sklearn.model_selection import GridSearchCV\n",
        "from sklearn.decomposition import PCA\n",
        "from tabulate import tabulate\n"
      ]
    },
    {
      "cell_type": "markdown",
      "source": [
        "**Gender Classification Task**"
      ],
      "metadata": {
        "id": "35s6w9tRyofK"
      },
      "id": "35s6w9tRyofK"
    },
    {
      "cell_type": "code",
      "source": [
        "data = scipy.io.loadmat(\"/content/mat1.mat\")"
      ],
      "metadata": {
        "id": "LinVqJan1KDs"
      },
      "id": "LinVqJan1KDs",
      "execution_count": null,
      "outputs": []
    },
    {
      "cell_type": "code",
      "source": [
        "print(data.keys())"
      ],
      "metadata": {
        "colab": {
          "base_uri": "https://localhost:8080/"
        },
        "id": "I3hJ58oRN3_9",
        "outputId": "2a21857d-8d59-40b4-a3d7-b5ee0d0c3b10"
      },
      "id": "I3hJ58oRN3_9",
      "execution_count": null,
      "outputs": [
        {
          "output_type": "stream",
          "name": "stdout",
          "text": [
            "dict_keys(['__header__', '__version__', '__globals__', 'mat1'])\n"
          ]
        }
      ]
    },
    {
      "cell_type": "code",
      "source": [
        "mat1 = data['mat1']\n",
        "mat1.shape\n",
        "print(mat1)"
      ],
      "metadata": {
        "colab": {
          "base_uri": "https://localhost:8080/"
        },
        "id": "8iSHR55KOWXM",
        "outputId": "e303e059-8b0e-4ea4-ac77-307070a6bb75"
      },
      "id": "8iSHR55KOWXM",
      "execution_count": null,
      "outputs": [
        {
          "output_type": "stream",
          "name": "stdout",
          "text": [
            "[[0.         0.         0.         ... 0.         0.         0.        ]\n",
            " [0.64759576 0.58282161 0.59156363 ... 0.63992785 0.5918916  0.68946197]\n",
            " [0.65320292 0.48277845 0.50255254 ... 0.53624705 0.56293826 0.6442154 ]\n",
            " ...\n",
            " [0.55553919 0.5152623  0.53676241 ... 0.74185251 0.77300974 0.80166463]\n",
            " [0.         0.         0.         ... 0.         0.         0.        ]\n",
            " [0.         0.         0.         ... 1.         1.         1.        ]]\n"
          ]
        }
      ]
    },
    {
      "cell_type": "code",
      "source": [
        "df = pd.DataFrame(mat1)\n",
        "print(df)"
      ],
      "metadata": {
        "colab": {
          "base_uri": "https://localhost:8080/"
        },
        "id": "p63aCHpQo-CK",
        "outputId": "09c1b4aa-5592-44d3-feb8-f3ef43068b80"
      },
      "id": "p63aCHpQo-CK",
      "execution_count": null,
      "outputs": [
        {
          "output_type": "stream",
          "name": "stdout",
          "text": [
            "           0         1         2         3         4         5         6     \\\n",
            "0      0.000000  0.000000  0.000000  0.000000  0.000000  0.000000  0.000000   \n",
            "1      0.647596  0.582822  0.591564  0.673888  0.619756  0.713181  0.525265   \n",
            "2      0.653203  0.482778  0.502553  0.622255  0.553085  0.645016  0.545595   \n",
            "3      0.584432  0.468668  0.598917  0.628371  0.660292  0.599560  0.567243   \n",
            "4      0.734723  0.537419  0.620956  0.601271  0.631406  0.674011  0.532116   \n",
            "...         ...       ...       ...       ...       ...       ...       ...   \n",
            "21900  0.526669  0.569382  0.663823  0.616654  0.651695  0.589986  0.529408   \n",
            "21901  0.680545  0.544748  0.713582  0.651248  0.632126  0.592887  0.600300   \n",
            "21902  0.555539  0.515262  0.536762  0.532665  0.647971  0.612871  0.540879   \n",
            "21903  0.000000  0.000000  0.000000  0.000000  0.000000  0.000000  0.000000   \n",
            "21904  0.000000  0.000000  0.000000  0.000000  0.000000  0.000000  0.000000   \n",
            "\n",
            "           7         8         9     ...      1261      1262      1263  \\\n",
            "0      0.000000  0.000000  0.000000  ...  0.000000  0.000000  0.000000   \n",
            "1      0.573793  0.617309  0.627294  ...  0.661532  0.629867  0.588569   \n",
            "2      0.623553  0.547436  0.676942  ...  0.624581  0.539105  0.605932   \n",
            "3      0.589889  0.591846  0.597543  ...  0.711001  0.646130  0.619730   \n",
            "4      0.610886  0.633056  0.703052  ...  0.771892  0.828896  0.869187   \n",
            "...         ...       ...       ...  ...       ...       ...       ...   \n",
            "21900  0.582976  0.519137  0.666533  ...  0.607652  0.648169  0.697428   \n",
            "21901  0.640210  0.589518  0.676899  ...  0.462468  0.489856  0.580641   \n",
            "21902  0.473019  0.586957  0.670685  ...  0.785677  0.771848  0.788248   \n",
            "21903  0.000000  0.000000  0.000000  ...  0.000000  0.000000  0.000000   \n",
            "21904  0.000000  0.000000  0.000000  ...  1.000000  1.000000  1.000000   \n",
            "\n",
            "           1264      1265      1266      1267      1268      1269      1270  \n",
            "0      0.000000  0.000000  0.000000  0.000000  0.000000  0.000000  0.000000  \n",
            "1      0.653256  0.638258  0.687349  0.668779  0.639928  0.591892  0.689462  \n",
            "2      0.462229  0.556788  0.611063  0.508984  0.536247  0.562938  0.644215  \n",
            "3      0.600838  0.645385  0.700171  0.697562  0.601695  0.597055  0.652694  \n",
            "4      0.850779  0.886171  0.834424  0.852635  0.846750  0.826789  0.863307  \n",
            "...         ...       ...       ...       ...       ...       ...       ...  \n",
            "21900  0.531704  0.609589  0.459528  0.658946  0.635160  0.637119  0.638764  \n",
            "21901  0.514617  0.576167  0.591698  0.568991  0.562129  0.608376  0.602117  \n",
            "21902  0.755236  0.770432  0.669819  0.774656  0.741853  0.773010  0.801665  \n",
            "21903  0.000000  0.000000  0.000000  0.000000  0.000000  0.000000  0.000000  \n",
            "21904  1.000000  1.000000  1.000000  1.000000  1.000000  1.000000  1.000000  \n",
            "\n",
            "[21905 rows x 1271 columns]\n"
          ]
        }
      ]
    },
    {
      "cell_type": "code",
      "source": [
        "X = df.iloc[:-1]\n",
        "y = df.iloc[-1]\n",
        "X = X.T\n",
        "print(X.shape)\n",
        "print(y.shape)\n",
        "print(X)\n",
        "print(y)"
      ],
      "metadata": {
        "colab": {
          "base_uri": "https://localhost:8080/"
        },
        "id": "dl_DnZ-kOibg",
        "outputId": "3c76971f-35a8-4fed-98eb-61459ab2ed3d"
      },
      "id": "dl_DnZ-kOibg",
      "execution_count": null,
      "outputs": [
        {
          "output_type": "stream",
          "name": "stdout",
          "text": [
            "(1271, 21904)\n",
            "(1271,)\n",
            "      0         1         2         3         4         5         6      \\\n",
            "0       0.0  0.647596  0.653203  0.584432  0.734723  0.585615  0.725115   \n",
            "1       0.0  0.582822  0.482778  0.468668  0.537419  0.447109  0.608017   \n",
            "2       0.0  0.591564  0.502553  0.598917  0.620956  0.545615  0.623592   \n",
            "3       0.0  0.673888  0.622255  0.628371  0.601271  0.616827  0.668395   \n",
            "4       0.0  0.619756  0.553085  0.660292  0.631406  0.566547  0.649662   \n",
            "...     ...       ...       ...       ...       ...       ...       ...   \n",
            "1266    0.0  0.687349  0.611063  0.700171  0.834424  0.776355  0.826785   \n",
            "1267    0.0  0.668779  0.508984  0.697562  0.852635  0.831248  0.803930   \n",
            "1268    0.0  0.639928  0.536247  0.601695  0.846750  0.812299  0.837336   \n",
            "1269    0.0  0.591892  0.562938  0.597055  0.826789  0.794421  0.804714   \n",
            "1270    0.0  0.689462  0.644215  0.652694  0.863307  0.782662  0.843672   \n",
            "\n",
            "         7         8         9      ...     21894     21895     21896  \\\n",
            "0     0.565570  0.639448  0.541272  ...  0.506222  0.551497  0.575159   \n",
            "1     0.437903  0.554416  0.492779  ...  0.550169  0.543902  0.589235   \n",
            "2     0.570483  0.491600  0.508926  ...  0.603509  0.536248  0.636016   \n",
            "3     0.569358  0.572534  0.572076  ...  0.567259  0.466354  0.661625   \n",
            "4     0.550506  0.595470  0.601048  ...  0.579658  0.540330  0.628747   \n",
            "...        ...       ...       ...  ...       ...       ...       ...   \n",
            "1266  0.773795  0.555926  0.573774  ...  0.665353  0.558567  0.725160   \n",
            "1267  0.796600  0.555329  0.581106  ...  0.631381  0.538659  0.758263   \n",
            "1268  0.784277  0.584859  0.587660  ...  0.607809  0.545033  0.701092   \n",
            "1269  0.772091  0.604641  0.594519  ...  0.664453  0.613452  0.753635   \n",
            "1270  0.798262  0.594429  0.609464  ...  0.535710  0.610681  0.750707   \n",
            "\n",
            "         21897     21898     21899     21900     21901     21902  21903  \n",
            "0     0.482419  0.542713  0.614372  0.526669  0.680545  0.555539    0.0  \n",
            "1     0.550671  0.577441  0.564600  0.569382  0.544748  0.515262    0.0  \n",
            "2     0.485959  0.599655  0.677991  0.663823  0.713582  0.536762    0.0  \n",
            "3     0.621006  0.568351  0.638955  0.616654  0.651248  0.532665    0.0  \n",
            "4     0.552728  0.598018  0.590219  0.651695  0.632126  0.647971    0.0  \n",
            "...        ...       ...       ...       ...       ...       ...    ...  \n",
            "1266  0.733504  0.662963  0.541314  0.459528  0.591698  0.669819    0.0  \n",
            "1267  0.764355  0.782159  0.538996  0.658946  0.568991  0.774656    0.0  \n",
            "1268  0.706443  0.695142  0.545302  0.635160  0.562129  0.741853    0.0  \n",
            "1269  0.759312  0.706347  0.644338  0.637119  0.608376  0.773010    0.0  \n",
            "1270  0.758945  0.748991  0.547140  0.638764  0.602117  0.801665    0.0  \n",
            "\n",
            "[1271 rows x 21904 columns]\n",
            "0       0.0\n",
            "1       0.0\n",
            "2       0.0\n",
            "3       0.0\n",
            "4       0.0\n",
            "       ... \n",
            "1266    1.0\n",
            "1267    1.0\n",
            "1268    1.0\n",
            "1269    1.0\n",
            "1270    1.0\n",
            "Name: 21904, Length: 1271, dtype: float64\n"
          ]
        }
      ]
    },
    {
      "cell_type": "code",
      "source": [
        "k = 7\n",
        "selector = SelectKBest(score_func=f_classif, k=k)\n",
        "X_selected = selector.fit_transform(X, y)\n",
        "\n",
        "selected_indices = selector.get_support(indices=True)\n",
        "print(\"Selected features indices:\", selected_indices)"
      ],
      "metadata": {
        "colab": {
          "base_uri": "https://localhost:8080/"
        },
        "id": "aq6rnm2koCCk",
        "outputId": "c3a9424d-03d5-4cc6-dea9-9c0e74f8e3c9"
      },
      "id": "aq6rnm2koCCk",
      "execution_count": null,
      "outputs": [
        {
          "output_type": "stream",
          "name": "stdout",
          "text": [
            "Selected features indices: [ 1173 10061 19371 19518 20281 20283 21527]\n"
          ]
        },
        {
          "output_type": "stream",
          "name": "stderr",
          "text": [
            "/usr/local/lib/python3.10/dist-packages/sklearn/feature_selection/_univariate_selection.py:112: UserWarning: Features [    0   149   298   447   596   745   894  1043  1192  1341  1490  1639\n",
            "  1788  1937  2086  2235  2384  2533  2682  2831  2980  3129  3278  3427\n",
            "  3576  3725  3874  4023  4172  4321  4470  4619  4768  4917  5066  5215\n",
            "  5364  5513  5662  5811  5960  6109  6258  6407  6556  6705  6854  7003\n",
            "  7152  7301  7450  7599  7748  7897  8046  8195  8344  8493  8642  8791\n",
            "  8940  9089  9238  9387  9536  9685  9834  9983 10132 10281 10430 10579\n",
            " 10728 10877 11026 11175 11324 11473 11622 11771 11920 12069 12218 12367\n",
            " 12516 12665 12814 12963 13112 13261 13410 13559 13708 13857 14006 14155\n",
            " 14304 14453 14602 14751 14900 15049 15198 15347 15496 15645 15794 15943\n",
            " 16092 16241 16390 16539 16688 16837 16986 17135 17284 17433 17582 17731\n",
            " 17880 18029 18178 18327 18476 18625 18774 18923 19072 19221 19370 19519\n",
            " 19668 19817 19966 20115 20264 20413 20562 20711 20860 21009 21158 21307\n",
            " 21456 21605 21754 21903] are constant.\n",
            "  warnings.warn(\"Features %s are constant.\" % constant_features_idx, UserWarning)\n",
            "/usr/local/lib/python3.10/dist-packages/sklearn/feature_selection/_univariate_selection.py:113: RuntimeWarning: invalid value encountered in divide\n",
            "  f = msb / msw\n"
          ]
        }
      ]
    },
    {
      "cell_type": "code",
      "source": [
        "# male_indices = np.where(y == 0)\n",
        "# female_indices = np.where(y == 1)\n",
        "\n",
        "# print(female_indices)\n",
        "# print(male_indices)\n",
        "\n",
        "# scores = selector.scores_\n",
        "\n",
        "# print(\"\\nmale:\")\n",
        "# for idx in male_indices:\n",
        "#     print(f\"Feature {idx}: Score = {scores[idx]}\")\n",
        "\n",
        "# print(\"\\nfemale:\")\n",
        "# for idx in female_indices:\n",
        "#     print(f\"Feature {idx}: Score = {scores[idx]}\")"
      ],
      "metadata": {
        "id": "W1V52w1yt5_5"
      },
      "id": "W1V52w1yt5_5",
      "execution_count": null,
      "outputs": []
    },
    {
      "cell_type": "code",
      "source": [
        "df = pd.DataFrame(X_selected)\n",
        "df['gender'] = np.where(y == 0, 'Women', 'Men')\n",
        "\n",
        "descriptive_stats = df.describe()\n",
        "descriptive_stats_gender = df.groupby('gender').describe()\n",
        "\n",
        "plt.figure(figsize=(12, 8))\n",
        "for i, feature in enumerate(df.columns[:-1]):\n",
        "    plt.subplot(3, 3, i+1)\n",
        "    sns.boxplot(x='gender', y=feature, data=df, showfliers=False)\n",
        "    plt.title(f'{feature}')\n",
        "plt.tight_layout()\n",
        "plt.show()\n"
      ],
      "metadata": {
        "colab": {
          "base_uri": "https://localhost:8080/",
          "height": 807
        },
        "id": "1kAdnFj3w066",
        "outputId": "bbaf2760-af20-42e9-b431-5cc719e8af7a"
      },
      "id": "1kAdnFj3w066",
      "execution_count": null,
      "outputs": [
        {
          "output_type": "display_data",
          "data": {
            "text/plain": [
              "<Figure size 1200x800 with 7 Axes>"
            ],
            "image/png": "[encoded data removed]"
          },
          "metadata": {}
        }
      ]
    },
    {
      "cell_type": "code",
      "source": [
        "selected_features_table = tabulate(descriptive_stats, headers='keys', tablefmt='fancy_grid', floatfmt=\".2f\")\n",
        "gender_table = tabulate(descriptive_stats_gender, headers='keys', tablefmt='fancy_grid', floatfmt=\".2f\")\n",
        "\n",
        "print(\"Descriptive Statistics for Selected Features:\")\n",
        "print(selected_features_table)\n",
        "\n",
        "print(\"\\nDescriptive Statistics for Selected Features by Gender:\")\n",
        "print(gender_table)"
      ],
      "metadata": {
        "colab": {
          "base_uri": "https://localhost:8080/"
        },
        "id": "wF21DZa42uP-",
        "outputId": "245bf335-ca3e-4cb2-9d60-16383b253035"
      },
      "id": "wF21DZa42uP-",
      "execution_count": null,
      "outputs": [
        {
          "output_type": "stream",
          "name": "stdout",
          "text": [
            "Descriptive Statistics for Selected Features:\n",
            "╒═══════╤═════════╤═════════╤═════════╤═════════╤═════════╤═════════╤═════════╕\n",
            "│       │       0 │       1 │       2 │       3 │       4 │       5 │       6 │\n",
            "╞═══════╪═════════╪═════════╪═════════╪═════════╪═════════╪═════════╪═════════╡\n",
            "│ count │ 1271.00 │ 1271.00 │ 1271.00 │ 1271.00 │ 1271.00 │ 1271.00 │ 1271.00 │\n",
            "├───────┼─────────┼─────────┼─────────┼─────────┼─────────┼─────────┼─────────┤\n",
            "│ mean  │    0.69 │    0.66 │    0.89 │    0.89 │    0.64 │    0.69 │    0.66 │\n",
            "├───────┼─────────┼─────────┼─────────┼─────────┼─────────┼─────────┼─────────┤\n",
            "│ std   │    0.08 │    0.11 │    0.07 │    0.07 │    0.07 │    0.08 │    0.11 │\n",
            "├───────┼─────────┼─────────┼─────────┼─────────┼─────────┼─────────┼─────────┤\n",
            "│ min   │    0.45 │    0.43 │    0.68 │    0.68 │    0.46 │    0.45 │    0.43 │\n",
            "├───────┼─────────┼─────────┼─────────┼─────────┼─────────┼─────────┼─────────┤\n",
            "│ 25%   │    0.63 │    0.60 │    0.84 │    0.84 │    0.58 │    0.63 │    0.60 │\n",
            "├───────┼─────────┼─────────┼─────────┼─────────┼─────────┼─────────┼─────────┤\n",
            "│ 50%   │    0.68 │    0.65 │    0.90 │    0.90 │    0.62 │    0.68 │    0.65 │\n",
            "├───────┼─────────┼─────────┼─────────┼─────────┼─────────┼─────────┼─────────┤\n",
            "│ 75%   │    0.75 │    0.70 │    0.95 │    0.95 │    0.68 │    0.75 │    0.70 │\n",
            "├───────┼─────────┼─────────┼─────────┼─────────┼─────────┼─────────┼─────────┤\n",
            "│ max   │    0.90 │    1.00 │    0.99 │    0.99 │    0.87 │    0.90 │    1.00 │\n",
            "╘═══════╧═════════╧═════════╧═════════╧═════════╧═════════╧═════════╧═════════╛\n",
            "\n",
            "Descriptive Statistics for Selected Features by Gender:\n",
            "╒══════════╤════════════════╤═══════════════╤══════════════╤══════════════╤══════════════╤══════════════╤══════════════╤══════════════╤════════════════╤═══════════════╤══════════════╤══════════════╤══════════════╤══════════════╤══════════════╤══════════════╤════════════════╤═══════════════╤══════════════╤══════════════╤══════════════╤══════════════╤══════════════╤══════════════╤════════════════╤═══════════════╤══════════════╤══════════════╤══════════════╤══════════════╤══════════════╤══════════════╤════════════════╤═══════════════╤══════════════╤══════════════╤══════════════╤══════════════╤══════════════╤══════════════╤════════════════╤═══════════════╤══════════════╤══════════════╤══════════════╤══════════════╤══════════════╤══════════════╤════════════════╤═══════════════╤══════════════╤══════════════╤══════════════╤══════════════╤══════════════╤══════════════╕\n",
            "│ gender   │   (0, 'count') │   (0, 'mean') │   (0, 'std') │   (0, 'min') │   (0, '25%') │   (0, '50%') │   (0, '75%') │   (0, 'max') │   (1, 'count') │   (1, 'mean') │   (1, 'std') │   (1, 'min') │   (1, '25%') │   (1, '50%') │   (1, '75%') │   (1, 'max') │   (2, 'count') │   (2, 'mean') │   (2, 'std') │   (2, 'min') │   (2, '25%') │   (2, '50%') │   (2, '75%') │   (2, 'max') │   (3, 'count') │   (3, 'mean') │   (3, 'std') │   (3, 'min') │   (3, '25%') │   (3, '50%') │   (3, '75%') │   (3, 'max') │   (4, 'count') │   (4, 'mean') │   (4, 'std') │   (4, 'min') │   (4, '25%') │   (4, '50%') │   (4, '75%') │   (4, 'max') │   (5, 'count') │   (5, 'mean') │   (5, 'std') │   (5, 'min') │   (5, '25%') │   (5, '50%') │   (5, '75%') │   (5, 'max') │   (6, 'count') │   (6, 'mean') │   (6, 'std') │   (6, 'min') │   (6, '25%') │   (6, '50%') │   (6, '75%') │   (6, 'max') │\n",
            "╞══════════╪════════════════╪═══════════════╪══════════════╪══════════════╪══════════════╪══════════════╪══════════════╪══════════════╪════════════════╪═══════════════╪══════════════╪══════════════╪══════════════╪══════════════╪══════════════╪══════════════╪════════════════╪═══════════════╪══════════════╪══════════════╪══════════════╪══════════════╪══════════════╪══════════════╪════════════════╪═══════════════╪══════════════╪══════════════╪══════════════╪══════════════╪══════════════╪══════════════╪════════════════╪═══════════════╪══════════════╪══════════════╪══════════════╪══════════════╪══════════════╪══════════════╪════════════════╪═══════════════╪══════════════╪══════════════╪══════════════╪══════════════╪══════════════╪══════════════╪════════════════╪═══════════════╪══════════════╪══════════════╪══════════════╪══════════════╪══════════════╪══════════════╡\n",
            "│ Men      │         739.00 │          0.73 │         0.07 │         0.50 │         0.68 │         0.73 │         0.78 │         0.90 │         739.00 │          0.61 │         0.05 │         0.44 │         0.57 │         0.61 │         0.65 │         0.74 │         739.00 │          0.92 │         0.05 │         0.72 │         0.89 │         0.92 │         0.97 │         0.99 │         739.00 │          0.92 │         0.05 │         0.72 │         0.89 │         0.92 │         0.97 │         0.99 │         739.00 │          0.67 │         0.07 │         0.48 │         0.61 │         0.66 │         0.72 │         0.87 │         739.00 │          0.73 │         0.07 │         0.50 │         0.68 │         0.73 │         0.78 │         0.90 │         739.00 │          0.61 │         0.05 │         0.44 │         0.57 │         0.61 │         0.65 │         0.74 │\n",
            "├──────────┼────────────────┼───────────────┼──────────────┼──────────────┼──────────────┼──────────────┼──────────────┼──────────────┼────────────────┼───────────────┼──────────────┼──────────────┼──────────────┼──────────────┼──────────────┼──────────────┼────────────────┼───────────────┼──────────────┼──────────────┼──────────────┼──────────────┼──────────────┼──────────────┼────────────────┼───────────────┼──────────────┼──────────────┼──────────────┼──────────────┼──────────────┼──────────────┼────────────────┼───────────────┼──────────────┼──────────────┼──────────────┼──────────────┼──────────────┼──────────────┼────────────────┼───────────────┼──────────────┼──────────────┼──────────────┼──────────────┼──────────────┼──────────────┼────────────────┼───────────────┼──────────────┼──────────────┼──────────────┼──────────────┼──────────────┼──────────────┤\n",
            "│ Women    │         532.00 │          0.63 │         0.05 │         0.45 │         0.60 │         0.63 │         0.67 │         0.79 │         532.00 │          0.74 │         0.12 │         0.43 │         0.66 │         0.70 │         0.77 │         1.00 │         532.00 │          0.85 │         0.07 │         0.68 │         0.80 │         0.85 │         0.92 │         0.96 │         532.00 │          0.85 │         0.07 │         0.68 │         0.80 │         0.85 │         0.92 │         0.96 │         532.00 │          0.59 │         0.04 │         0.46 │         0.56 │         0.59 │         0.62 │         0.72 │         532.00 │          0.63 │         0.05 │         0.45 │         0.60 │         0.63 │         0.67 │         0.79 │         532.00 │          0.74 │         0.12 │         0.43 │         0.66 │         0.70 │         0.77 │         1.00 │\n",
            "╘══════════╧════════════════╧═══════════════╧══════════════╧══════════════╧══════════════╧══════════════╧══════════════╧══════════════╧════════════════╧═══════════════╧══════════════╧══════════════╧══════════════╧══════════════╧══════════════╧══════════════╧════════════════╧═══════════════╧══════════════╧══════════════╧══════════════╧══════════════╧══════════════╧══════════════╧════════════════╧═══════════════╧══════════════╧══════════════╧══════════════╧══════════════╧══════════════╧══════════════╧════════════════╧═══════════════╧══════════════╧══════════════╧══════════════╧══════════════╧══════════════╧══════════════╧════════════════╧═══════════════╧══════════════╧══════════════╧══════════════╧══════════════╧══════════════╧══════════════╧════════════════╧═══════════════╧══════════════╧══════════════╧══════════════╧══════════════╧══════════════╧══════════════╛\n"
          ]
        }
      ]
    },
    {
      "cell_type": "code",
      "source": [
        "X_train, X_test, y_train, y_test = train_test_split(X_selected, y, test_size=0.2, random_state=42)\n",
        "\n",
        "print(y_train.shape)\n",
        "print(X_train.shape)"
      ],
      "metadata": {
        "id": "wO1UxLbIjUgn",
        "colab": {
          "base_uri": "https://localhost:8080/"
        },
        "outputId": "fba37760-98a0-4909-f493-a777a4ff894b"
      },
      "id": "wO1UxLbIjUgn",
      "execution_count": null,
      "outputs": [
        {
          "output_type": "stream",
          "name": "stdout",
          "text": [
            "(1016,)\n",
            "(1016, 7)\n"
          ]
        }
      ]
    },
    {
      "cell_type": "code",
      "source": [
        "svm = SVC(kernel='linear')\n",
        "svm.fit(X_train, y_train)\n",
        "\n",
        "svm_pred = svm.predict(X_test)\n",
        "svm_accuracy = accuracy_score(y_test, svm_pred)\n",
        "svm_precision = precision_score(y_test, svm_pred)\n",
        "svm_recall = recall_score(y_test, svm_pred)\n",
        "svm_f1 = f1_score(y_test, svm_pred)\n",
        "print(\"SVM Metrics:\")\n",
        "print(\"SVM Accuracy:\", svm_accuracy)\n",
        "\n",
        "print(\"Precision:\", svm_precision)\n",
        "print(\"Recall:\", svm_recall)\n",
        "print(\"F1-score:\", svm_f1)"
      ],
      "metadata": {
        "colab": {
          "base_uri": "https://localhost:8080/"
        },
        "id": "s__WCDcawF5-",
        "outputId": "0fbbee4e-7a95-45c3-b96a-9894019f1b7b"
      },
      "id": "s__WCDcawF5-",
      "execution_count": null,
      "outputs": [
        {
          "output_type": "stream",
          "name": "stdout",
          "text": [
            "SVM Metrics:\n",
            "SVM Accuracy: 0.8549019607843137\n",
            "Precision: 0.8581081081081081\n",
            "Recall: 0.8881118881118881\n",
            "F1-score: 0.872852233676976\n"
          ]
        }
      ]
    },
    {
      "cell_type": "code",
      "source": [
        "knn = KNeighborsClassifier(n_neighbors=10)\n",
        "knn.fit(X_train, y_train)\n",
        "\n",
        "knn_pred = knn.predict(X_test)\n",
        "knn_accuracy = accuracy_score(y_test, knn_pred)\n",
        "knn_precision = precision_score(y_test, knn_pred)\n",
        "knn_recall = recall_score(y_test, knn_pred)\n",
        "knn_f1 = f1_score(y_test, knn_pred)\n",
        "print(\"KNN Metrics:\")\n",
        "print(\"KNN Accuracy:\", knn_accuracy)\n",
        "\n",
        "print(\"Precision:\", knn_precision)\n",
        "print(\"Recall:\", knn_recall)\n",
        "print(\"F1-score:\", knn_f1)"
      ],
      "metadata": {
        "colab": {
          "base_uri": "https://localhost:8080/"
        },
        "id": "JhFF41i0vQ69",
        "outputId": "d83d304d-b29e-40b4-a096-28002b3088f6"
      },
      "id": "JhFF41i0vQ69",
      "execution_count": null,
      "outputs": [
        {
          "output_type": "stream",
          "name": "stdout",
          "text": [
            "KNN Metrics:\n",
            "KNN Accuracy: 0.8901960784313725\n",
            "Precision: 0.9197080291970803\n",
            "Recall: 0.8811188811188811\n",
            "F1-score: 0.8999999999999999\n"
          ]
        }
      ]
    },
    {
      "cell_type": "code",
      "source": [
        "svm_cm = confusion_matrix(y_test, svm_pred)\n",
        "\n",
        "knn_cm = confusion_matrix(y_test, knn_pred)\n",
        "\n",
        "print(\"Confusion Matrix for SVM:\")\n",
        "print(svm_cm)\n",
        "\n",
        "print(\"\\nConfusion Matrix for k-NN:\")\n",
        "print(knn_cm)\n",
        "\n",
        "svm_cm = confusion_matrix(y_test, svm_pred)\n",
        "plt.figure(figsize=(4, 4))\n",
        "sns.heatmap(svm_cm, annot=True, fmt=\"d\", cmap=\"Blues\", cbar=False,\n",
        "            xticklabels=['positive', 'negative'],\n",
        "            yticklabels=['positive', 'negative'])\n",
        "plt.title('Confusion Matrix for SVM')\n",
        "plt.show()\n",
        "\n",
        "knn_cm = confusion_matrix(y_test, knn_pred)\n",
        "plt.figure(figsize=(4, 4))\n",
        "sns.heatmap(knn_cm, annot=True, fmt=\"d\", cmap=\"Blues\", cbar=False,\n",
        "            xticklabels=['positive', 'negative'],\n",
        "            yticklabels=['positive', 'negative'])\n",
        "plt.title('Confusion Matrix for k-NN')\n",
        "plt.show()\n"
      ],
      "metadata": {
        "colab": {
          "base_uri": "https://localhost:8080/",
          "height": 886
        },
        "id": "MdeL2kRMan1x",
        "outputId": "d2588c3b-5b79-4d66-8c5e-e45a6147fd92"
      },
      "id": "MdeL2kRMan1x",
      "execution_count": null,
      "outputs": [
        {
          "output_type": "stream",
          "name": "stdout",
          "text": [
            "Confusion Matrix for SVM:\n",
            "[[ 91  21]\n",
            " [ 16 127]]\n",
            "\n",
            "Confusion Matrix for k-NN:\n",
            "[[101  11]\n",
            " [ 17 126]]\n"
          ]
        },
        {
          "output_type": "display_data",
          "data": {
            "text/plain": [
              "<Figure size 400x400 with 1 Axes>"
            ],
            "image/png": "[encoded data removed]"
          },
          "metadata": {}
        },
        {
          "output_type": "display_data",
          "data": {
            "text/plain": [
              "<Figure size 400x400 with 1 Axes>"
            ],
            "image/png": "[encoded data removed]"
          },
          "metadata": {}
        }
      ]
    },
    {
      "cell_type": "code",
      "source": [
        "# 5-fold cross-validation\n",
        "kf = KFold(n_splits=5, shuffle=True, random_state=42)\n",
        "\n",
        "svm_cv_scores = cross_val_score(svm, X_selected, y, cv=kf, scoring='accuracy')\n",
        "svm_cv_accuracy = svm_cv_scores.mean()\n",
        "\n",
        "knn_cv_scores = cross_val_score(knn, X_selected, y, cv=kf, scoring='accuracy')\n",
        "knn_cv_accuracy = knn_cv_scores.mean()\n",
        "\n",
        "svm_cv_precision = cross_val_score(svm, X_selected, y, cv=kf, scoring='precision').mean()\n",
        "svm_cv_recall = cross_val_score(svm, X_selected, y, cv=kf, scoring='recall').mean()\n",
        "svm_cv_f1 = cross_val_score(svm, X_selected, y, cv=kf, scoring='f1').mean()\n",
        "\n",
        "\n",
        "knn_cv_precision = cross_val_score(knn, X_selected, y, cv=kf, scoring='precision').mean()\n",
        "knn_cv_recall = cross_val_score(knn, X_selected, y, cv=kf, scoring='recall').mean()\n",
        "knn_cv_f1 = cross_val_score(knn, X_selected, y, cv=kf, scoring='f1').mean()\n"
      ],
      "metadata": {
        "id": "0zwXf-DuDFdi"
      },
      "id": "0zwXf-DuDFdi",
      "execution_count": null,
      "outputs": []
    },
    {
      "cell_type": "code",
      "source": [
        "#cross valiation SVM metrics\n",
        "print(\"Cross validation SVM Metrics:\")\n",
        "print(\"Average Accuracy:\", svm_cv_accuracy)\n",
        "print(\"Average Precision:\", svm_cv_precision)\n",
        "print(\"Average Recall:\", svm_cv_recall)\n",
        "print(\"Average F1-score:\", svm_cv_f1)\n",
        "\n",
        "#cross valiation KNN metrics\n",
        "print(\"\\nCross validation KNN metrics:\")\n",
        "print(\"Average Accuracy:\", knn_cv_accuracy)\n",
        "print(\"Average Precision:\", knn_cv_precision)\n",
        "print(\"Average Recall:\", knn_cv_recall)\n",
        "print(\"Average F1-score:\", knn_cv_f1)"
      ],
      "metadata": {
        "colab": {
          "base_uri": "https://localhost:8080/"
        },
        "id": "Ij7cxhOuDT4s",
        "outputId": "233d85e0-5f1e-4287-9711-76167f23a564"
      },
      "id": "Ij7cxhOuDT4s",
      "execution_count": null,
      "outputs": [
        {
          "output_type": "stream",
          "name": "stdout",
          "text": [
            "Cross validation SVM Metrics:\n",
            "Average Accuracy: 0.8662559827080438\n",
            "Average Precision: 0.8856586036367936\n",
            "Average Recall: 0.8852623514100195\n",
            "Average F1-score: 0.885116118178322\n",
            "\n",
            "Cross validation KNN metrics:\n",
            "Average Accuracy: 0.8977242550563533\n",
            "Average Precision: 0.9471946869781356\n",
            "Average Recall: 0.8729522456237969\n",
            "Average F1-score: 0.9082365056709854\n"
          ]
        }
      ]
    },
    {
      "cell_type": "code",
      "source": [
        "svm_param_grid = {\n",
        "    'C': [0.1, 1, 10],\n",
        "    'gamma': [0.1, 1, 10]\n",
        "}\n",
        "\n",
        "svm_grid_search = GridSearchCV(SVC(kernel='linear'), svm_param_grid, cv=5)\n",
        "svm_grid_search.fit(X_selected, y)\n",
        "\n",
        "pca = PCA(n_components=5)\n",
        "X_pca = pca.fit_transform(X_selected)\n",
        "\n",
        "svm_pca = SVC(kernel='linear')\n",
        "svm_pca.fit(X_pca, y)\n",
        "\n",
        "knn_param_grid = {\n",
        "    'n_neighbors': [5, 10, 15],\n",
        "    'weights': ['uniform', 'distance']\n",
        "}\n",
        "\n",
        "knn_grid_search = GridSearchCV(KNeighborsClassifier(), knn_param_grid, cv=5)\n",
        "knn_grid_search.fit(X_selected, y)\n",
        "\n",
        "knn_pca = KNeighborsClassifier(n_neighbors=10)\n",
        "knn_pca.fit(X_pca, y)\n",
        "\n",
        "print(\"Best parameters for SVM:\", svm_grid_search.best_params_)\n",
        "print(\"Best score for SVM:\", svm_grid_search.best_score_)\n",
        "print(\"Best parameters for KNN:\", knn_grid_search.best_params_)\n",
        "print(\"Best score for KNN:\", knn_grid_search.best_score_)"
      ],
      "metadata": {
        "colab": {
          "base_uri": "https://localhost:8080/"
        },
        "id": "y4mm5OtJ4VLX",
        "outputId": "6cf17f47-f01f-4aa4-e159-ee93992057a1"
      },
      "id": "y4mm5OtJ4VLX",
      "execution_count": null,
      "outputs": [
        {
          "output_type": "stream",
          "name": "stdout",
          "text": [
            "Best parameters for SVM: {'C': 1, 'gamma': 0.1}\n",
            "Best score for SVM: 0.8465616797900264\n",
            "Best parameters for KNN: {'n_neighbors': 15, 'weights': 'uniform'}\n",
            "Best score for KNN: 0.8418280067932684\n"
          ]
        }
      ]
    },
    {
      "cell_type": "markdown",
      "source": [
        "**Age Classification Task**"
      ],
      "metadata": {
        "id": "LolDBZIpYUk-"
      },
      "id": "LolDBZIpYUk-"
    },
    {
      "cell_type": "code",
      "source": [
        "data = scipy.io.loadmat('/content/all_epochs_final_LABELED.mat')\n",
        "print(data.keys())"
      ],
      "metadata": {
        "colab": {
          "base_uri": "https://localhost:8080/"
        },
        "id": "cSH4fy9vYK3C",
        "outputId": "7967697f-7675-4ba0-8f68-9bf2e82876f6"
      },
      "id": "cSH4fy9vYK3C",
      "execution_count": null,
      "outputs": [
        {
          "output_type": "stream",
          "name": "stdout",
          "text": [
            "dict_keys(['__header__', '__version__', '__globals__', 'all_epochs_final'])\n"
          ]
        }
      ]
    },
    {
      "cell_type": "code",
      "source": [
        "mat2 = data['all_epochs_final']\n",
        "mat2.shape\n",
        "print(mat2)"
      ],
      "metadata": {
        "colab": {
          "base_uri": "https://localhost:8080/"
        },
        "id": "xAI-ccU8YTm0",
        "outputId": "76535876-0e2f-4809-9e65-19402a5e034c"
      },
      "id": "xAI-ccU8YTm0",
      "execution_count": null,
      "outputs": [
        {
          "output_type": "stream",
          "name": "stdout",
          "text": [
            "[[0.         0.         0.         ... 0.         0.         0.        ]\n",
            " [0.62155139 0.58156328 0.59160199 ... 0.99961292 0.9994126  0.99960555]\n",
            " [0.60890351 0.58123721 0.49519495 ... 0.99919784 0.9978543  0.99891085]\n",
            " ...\n",
            " [0.6213349  0.48649898 0.5366608  ... 0.99995561 0.99992085 0.99993894]\n",
            " [0.         0.         0.         ... 0.         0.         0.        ]\n",
            " [1.         1.         1.         ... 0.         0.         0.        ]]\n"
          ]
        }
      ]
    },
    {
      "cell_type": "code",
      "source": [
        "df2 = pd.DataFrame(mat2)\n",
        "print(df2)"
      ],
      "metadata": {
        "colab": {
          "base_uri": "https://localhost:8080/"
        },
        "id": "A1yDA76Vpg7x",
        "outputId": "28d4f03e-32ae-4579-f063-151aea49b293"
      },
      "id": "A1yDA76Vpg7x",
      "execution_count": null,
      "outputs": [
        {
          "output_type": "stream",
          "name": "stdout",
          "text": [
            "           0         1         2         3         4         5         6     \\\n",
            "0      0.000000  0.000000  0.000000  0.000000  0.000000  0.000000  0.000000   \n",
            "1      0.621551  0.581563  0.591602  0.572611  0.555390  0.561822  0.536170   \n",
            "2      0.608904  0.581237  0.495195  0.588287  0.563952  0.664627  0.587096   \n",
            "3      0.578605  0.587691  0.554662  0.586430  0.564059  0.603013  0.531835   \n",
            "4      0.664136  0.556493  0.567646  0.618221  0.574682  0.536251  0.563179   \n",
            "...         ...       ...       ...       ...       ...       ...       ...   \n",
            "21900  0.555295  0.589682  0.445077  0.532185  0.498339  0.575389  0.492054   \n",
            "21901  0.691535  0.467148  0.641506  0.522452  0.624896  0.608217  0.559438   \n",
            "21902  0.621335  0.486499  0.536661  0.558999  0.570838  0.574401  0.565443   \n",
            "21903  0.000000  0.000000  0.000000  0.000000  0.000000  0.000000  0.000000   \n",
            "21904  1.000000  1.000000  1.000000  1.000000  1.000000  1.000000  1.000000   \n",
            "\n",
            "           7         8         9     ...      1343      1344      1345  \\\n",
            "0      0.000000  0.000000  0.000000  ...  0.000000  0.000000  0.000000   \n",
            "1      0.627486  0.609593  0.531429  ...  0.999795  0.999731  0.999830   \n",
            "2      0.606351  0.584531  0.657043  ...  0.999255  0.999013  0.999353   \n",
            "3      0.599056  0.624348  0.637008  ...  0.999774  0.999694  0.999812   \n",
            "4      0.683538  0.636509  0.590464  ...  0.999793  0.999784  0.999860   \n",
            "...         ...       ...       ...  ...       ...       ...       ...   \n",
            "21900  0.582757  0.572184  0.580071  ...  0.999955  0.999961  0.999970   \n",
            "21901  0.611358  0.577495  0.502613  ...  0.999980  0.999973  0.999966   \n",
            "21902  0.546101  0.613545  0.587821  ...  0.999960  0.999954  0.999959   \n",
            "21903  0.000000  0.000000  0.000000  ...  0.000000  0.000000  0.000000   \n",
            "21904  1.000000  1.000000  1.000000  ...  0.000000  0.000000  0.000000   \n",
            "\n",
            "           1346      1347      1348      1349      1350      1351      1352  \n",
            "0      0.000000  0.000000  0.000000  0.000000  0.000000  0.000000  0.000000  \n",
            "1      0.999757  0.999773  0.999716  0.999442  0.999613  0.999413  0.999606  \n",
            "2      0.999340  0.998659  0.998845  0.998153  0.999198  0.997854  0.998911  \n",
            "3      0.999741  0.999764  0.999710  0.999637  0.999601  0.999624  0.999558  \n",
            "4      0.999752  0.999778  0.999751  0.999587  0.999676  0.999516  0.999663  \n",
            "...         ...       ...       ...       ...       ...       ...       ...  \n",
            "21900  0.999963  0.999968  0.999936  0.999951  0.999962  0.999943  0.999947  \n",
            "21901  0.999959  0.999973  0.999963  0.999951  0.999982  0.999932  0.999964  \n",
            "21902  0.999967  0.999956  0.999933  0.999923  0.999956  0.999921  0.999939  \n",
            "21903  0.000000  0.000000  0.000000  0.000000  0.000000  0.000000  0.000000  \n",
            "21904  0.000000  0.000000  0.000000  0.000000  0.000000  0.000000  0.000000  \n",
            "\n",
            "[21905 rows x 1353 columns]\n"
          ]
        }
      ]
    },
    {
      "cell_type": "code",
      "source": [
        "X = df2.iloc[:-1]\n",
        "y = df2.iloc[-1]\n",
        "X = X.T\n",
        "print(X.shape)\n",
        "print(y.shape)\n",
        "print(X)\n",
        "print(y)"
      ],
      "metadata": {
        "colab": {
          "base_uri": "https://localhost:8080/"
        },
        "id": "fp5E3od6Ygcs",
        "outputId": "991a7e8a-2c81-4b76-e9b4-028614fe13a5"
      },
      "id": "fp5E3od6Ygcs",
      "execution_count": null,
      "outputs": [
        {
          "output_type": "stream",
          "name": "stdout",
          "text": [
            "(1353, 21904)\n",
            "(1353,)\n",
            "      0         1         2         3         4         5         6      \\\n",
            "0       0.0  0.621551  0.608904  0.578605  0.664136  0.701775  0.568980   \n",
            "1       0.0  0.581563  0.581237  0.587691  0.556493  0.669873  0.573834   \n",
            "2       0.0  0.591602  0.495195  0.554662  0.567646  0.691985  0.662553   \n",
            "3       0.0  0.572611  0.588287  0.586430  0.618221  0.686700  0.627380   \n",
            "4       0.0  0.555390  0.563952  0.564059  0.574682  0.644546  0.611373   \n",
            "...     ...       ...       ...       ...       ...       ...       ...   \n",
            "1348    0.0  0.999716  0.998845  0.999710  0.999751  0.999669  0.999760   \n",
            "1349    0.0  0.999442  0.998153  0.999637  0.999587  0.999530  0.999498   \n",
            "1350    0.0  0.999613  0.999198  0.999601  0.999676  0.999562  0.999691   \n",
            "1351    0.0  0.999413  0.997854  0.999624  0.999516  0.999502  0.999464   \n",
            "1352    0.0  0.999606  0.998911  0.999558  0.999663  0.999623  0.999680   \n",
            "\n",
            "         7         8         9      ...     21894     21895     21896  \\\n",
            "0     0.669270  0.509284  0.513141  ...  0.582333  0.524814  0.534381   \n",
            "1     0.633138  0.623876  0.578928  ...  0.518049  0.523727  0.457143   \n",
            "2     0.613381  0.553592  0.547752  ...  0.523086  0.546993  0.440561   \n",
            "3     0.697416  0.570524  0.556699  ...  0.564476  0.500485  0.545101   \n",
            "4     0.661858  0.604410  0.610910  ...  0.494931  0.517990  0.501744   \n",
            "...        ...       ...       ...  ...       ...       ...       ...   \n",
            "1348  0.999582  0.999695  0.999624  ...  0.999889  0.999772  0.999945   \n",
            "1349  0.999445  0.999416  0.998789  ...  0.999868  0.999189  0.999940   \n",
            "1350  0.999568  0.999492  0.999572  ...  0.999936  0.999905  0.999940   \n",
            "1351  0.999393  0.999410  0.998780  ...  0.999850  0.998813  0.999936   \n",
            "1352  0.999454  0.999515  0.999450  ...  0.999905  0.999833  0.999915   \n",
            "\n",
            "         21897     21898     21899     21900     21901     21902  21903  \n",
            "0     0.565088  0.454995  0.578731  0.555295  0.691535  0.621335    0.0  \n",
            "1     0.408311  0.365671  0.432201  0.589682  0.467148  0.486499    0.0  \n",
            "2     0.491449  0.430464  0.556070  0.445077  0.641506  0.536661    0.0  \n",
            "3     0.596397  0.568006  0.613092  0.532185  0.522452  0.558999    0.0  \n",
            "4     0.486739  0.506824  0.531952  0.498339  0.624896  0.570838    0.0  \n",
            "...        ...       ...       ...       ...       ...       ...    ...  \n",
            "1348  0.999300  0.999891  0.999538  0.999936  0.999963  0.999933    0.0  \n",
            "1349  0.999526  0.999723  0.999066  0.999951  0.999951  0.999923    0.0  \n",
            "1350  0.999543  0.999893  0.999702  0.999962  0.999982  0.999956    0.0  \n",
            "1351  0.999485  0.999746  0.999078  0.999943  0.999932  0.999921    0.0  \n",
            "1352  0.999419  0.999894  0.999589  0.999947  0.999964  0.999939    0.0  \n",
            "\n",
            "[1353 rows x 21904 columns]\n",
            "0       1.0\n",
            "1       1.0\n",
            "2       1.0\n",
            "3       1.0\n",
            "4       1.0\n",
            "       ... \n",
            "1348    0.0\n",
            "1349    0.0\n",
            "1350    0.0\n",
            "1351    0.0\n",
            "1352    0.0\n",
            "Name: 21904, Length: 1353, dtype: float64\n"
          ]
        }
      ]
    },
    {
      "cell_type": "code",
      "source": [
        "k = 9\n",
        "selector = SelectKBest(score_func=f_classif, k=k)\n",
        "X_selected = selector.fit_transform(X, y)\n",
        "\n",
        "selected_indices = selector.get_support(indices=True)\n",
        "print(\"Selected features indices:\", selected_indices)"
      ],
      "metadata": {
        "colab": {
          "base_uri": "https://localhost:8080/"
        },
        "id": "awjW84w1YgkI",
        "outputId": "8e1094f8-247d-4452-8305-4568fb5ee9de"
      },
      "id": "awjW84w1YgkI",
      "execution_count": null,
      "outputs": [
        {
          "output_type": "stream",
          "name": "stderr",
          "text": [
            "/usr/local/lib/python3.10/dist-packages/sklearn/feature_selection/_univariate_selection.py:112: UserWarning: Features [    0   149   298   447   596   745   894  1043  1192  1341  1490  1639\n",
            "  1788  1937  2086  2235  2384  2533  2682  2831  2980  3129  3278  3427\n",
            "  3576  3725  3874  4023  4172  4321  4470  4619  4768  4917  5066  5215\n",
            "  5364  5513  5662  5811  5960  6109  6258  6407  6556  6705  6854  7003\n",
            "  7152  7301  7450  7599  7748  7897  8046  8195  8344  8493  8642  8791\n",
            "  8940  9089  9238  9387  9536  9685  9834  9983 10132 10281 10430 10579\n",
            " 10728 10877 11026 11175 11324 11473 11622 11771 11920 12069 12218 12367\n",
            " 12516 12665 12814 12963 13112 13261 13410 13559 13708 13857 14006 14155\n",
            " 14304 14453 14602 14751 14900 15049 15198 15347 15496 15645 15794 15943\n",
            " 16092 16241 16390 16539 16688 16837 16986 17135 17284 17433 17582 17731\n",
            " 17880 18029 18178 18327 18476 18625 18774 18923 19072 19221 19370 19519\n",
            " 19668 19817 19966 20115 20264 20413 20562 20711 20860 21009 21158 21307\n",
            " 21456 21605 21754 21903] are constant.\n",
            "  warnings.warn(\"Features %s are constant.\" % constant_features_idx, UserWarning)\n",
            "/usr/local/lib/python3.10/dist-packages/sklearn/feature_selection/_univariate_selection.py:113: RuntimeWarning: invalid value encountered in divide\n",
            "  f = msb / msw\n"
          ]
        },
        {
          "output_type": "stream",
          "name": "stdout",
          "text": [
            "Selected features indices: [ 4236  6934 12558 13644 18182 18694 18732 18770 18857]\n"
          ]
        }
      ]
    },
    {
      "cell_type": "code",
      "source": [
        "df2 = pd.DataFrame(X_selected)\n",
        "df2['Age'] = np.where(y == 0, 'Young', 'Old')\n",
        "\n",
        "descriptive_stats2 = df2.describe()\n",
        "descriptive_stats_age = df2.groupby('Age').describe()\n",
        "\n",
        "plt.figure(figsize=(12, 8))\n",
        "for i, feature in enumerate(df2.columns[:-1]):\n",
        "    plt.subplot(3, 3, i+1)\n",
        "    sns.boxplot(x='Age', y=feature, data=df2, showfliers=False)\n",
        "    plt.title(f'{feature}')\n",
        "plt.tight_layout()\n",
        "plt.show()\n"
      ],
      "metadata": {
        "colab": {
          "base_uri": "https://localhost:8080/",
          "height": 807
        },
        "id": "bDHh1nJ-Ygu3",
        "outputId": "3025f668-f5b6-43fb-9b3d-ec525f5cbd85"
      },
      "id": "bDHh1nJ-Ygu3",
      "execution_count": null,
      "outputs": [
        {
          "output_type": "display_data",
          "data": {
            "text/plain": [
              "<Figure size 1200x800 with 9 Axes>"
            ],
            "image/png": "[encoded data removed]"
          },
          "metadata": {}
        }
      ]
    },
    {
      "cell_type": "code",
      "source": [
        "selected_features_table = tabulate(descriptive_stats, headers='keys', tablefmt='fancy_grid', floatfmt=\".2f\")\n",
        "age_group_table = tabulate(descriptive_stats_age, headers='keys', tablefmt='fancy_grid', floatfmt=\".2f\")\n",
        "print(\"Descriptive Statistics for Selected Features:\")\n",
        "print(selected_features_table)\n",
        "\n",
        "print(\"\\nDescriptive Statistics for Selected Features by Age Group:\")\n",
        "print(age_group_table)"
      ],
      "metadata": {
        "colab": {
          "base_uri": "https://localhost:8080/"
        },
        "id": "2A4PjVxPaaVL",
        "outputId": "3ec6fcf9-7b7e-498f-b2d1-a4e28f438f9a"
      },
      "id": "2A4PjVxPaaVL",
      "execution_count": null,
      "outputs": [
        {
          "output_type": "stream",
          "name": "stdout",
          "text": [
            "Descriptive Statistics for Selected Features:\n",
            "╒═══════╤═════════╤═════════╤═════════╤═════════╤═════════╤═════════╤═════════╕\n",
            "│       │       0 │       1 │       2 │       3 │       4 │       5 │       6 │\n",
            "╞═══════╪═════════╪═════════╪═════════╪═════════╪═════════╪═════════╪═════════╡\n",
            "│ count │ 1271.00 │ 1271.00 │ 1271.00 │ 1271.00 │ 1271.00 │ 1271.00 │ 1271.00 │\n",
            "├───────┼─────────┼─────────┼─────────┼─────────┼─────────┼─────────┼─────────┤\n",
            "│ mean  │    0.69 │    0.66 │    0.89 │    0.89 │    0.64 │    0.69 │    0.66 │\n",
            "├───────┼─────────┼─────────┼─────────┼─────────┼─────────┼─────────┼─────────┤\n",
            "│ std   │    0.08 │    0.11 │    0.07 │    0.07 │    0.07 │    0.08 │    0.11 │\n",
            "├───────┼─────────┼─────────┼─────────┼─────────┼─────────┼─────────┼─────────┤\n",
            "│ min   │    0.45 │    0.43 │    0.68 │    0.68 │    0.46 │    0.45 │    0.43 │\n",
            "├───────┼─────────┼─────────┼─────────┼─────────┼─────────┼─────────┼─────────┤\n",
            "│ 25%   │    0.63 │    0.60 │    0.84 │    0.84 │    0.58 │    0.63 │    0.60 │\n",
            "├───────┼─────────┼─────────┼─────────┼─────────┼─────────┼─────────┼─────────┤\n",
            "│ 50%   │    0.68 │    0.65 │    0.90 │    0.90 │    0.62 │    0.68 │    0.65 │\n",
            "├───────┼─────────┼─────────┼─────────┼─────────┼─────────┼─────────┼─────────┤\n",
            "│ 75%   │    0.75 │    0.70 │    0.95 │    0.95 │    0.68 │    0.75 │    0.70 │\n",
            "├───────┼─────────┼─────────┼─────────┼─────────┼─────────┼─────────┼─────────┤\n",
            "│ max   │    0.90 │    1.00 │    0.99 │    0.99 │    0.87 │    0.90 │    1.00 │\n",
            "╘═══════╧═════════╧═════════╧═════════╧═════════╧═════════╧═════════╧═════════╛\n",
            "\n",
            "Descriptive Statistics for Selected Features by Age Group:\n",
            "╒═══════╤════════════════╤═══════════════╤══════════════╤══════════════╤══════════════╤══════════════╤══════════════╤══════════════╤════════════════╤═══════════════╤══════════════╤══════════════╤══════════════╤══════════════╤══════════════╤══════════════╤════════════════╤═══════════════╤══════════════╤══════════════╤══════════════╤══════════════╤══════════════╤══════════════╤════════════════╤═══════════════╤══════════════╤══════════════╤══════════════╤══════════════╤══════════════╤══════════════╤════════════════╤═══════════════╤══════════════╤══════════════╤══════════════╤══════════════╤══════════════╤══════════════╤════════════════╤═══════════════╤══════════════╤══════════════╤══════════════╤══════════════╤══════════════╤══════════════╤════════════════╤═══════════════╤══════════════╤══════════════╤══════════════╤══════════════╤══════════════╤══════════════╤════════════════╤═══════════════╤══════════════╤══════════════╤══════════════╤══════════════╤══════════════╤══════════════╤════════════════╤═══════════════╤══════════════╤══════════════╤══════════════╤══════════════╤══════════════╤══════════════╕\n",
            "│ Age   │   (0, 'count') │   (0, 'mean') │   (0, 'std') │   (0, 'min') │   (0, '25%') │   (0, '50%') │   (0, '75%') │   (0, 'max') │   (1, 'count') │   (1, 'mean') │   (1, 'std') │   (1, 'min') │   (1, '25%') │   (1, '50%') │   (1, '75%') │   (1, 'max') │   (2, 'count') │   (2, 'mean') │   (2, 'std') │   (2, 'min') │   (2, '25%') │   (2, '50%') │   (2, '75%') │   (2, 'max') │   (3, 'count') │   (3, 'mean') │   (3, 'std') │   (3, 'min') │   (3, '25%') │   (3, '50%') │   (3, '75%') │   (3, 'max') │   (4, 'count') │   (4, 'mean') │   (4, 'std') │   (4, 'min') │   (4, '25%') │   (4, '50%') │   (4, '75%') │   (4, 'max') │   (5, 'count') │   (5, 'mean') │   (5, 'std') │   (5, 'min') │   (5, '25%') │   (5, '50%') │   (5, '75%') │   (5, 'max') │   (6, 'count') │   (6, 'mean') │   (6, 'std') │   (6, 'min') │   (6, '25%') │   (6, '50%') │   (6, '75%') │   (6, 'max') │   (7, 'count') │   (7, 'mean') │   (7, 'std') │   (7, 'min') │   (7, '25%') │   (7, '50%') │   (7, '75%') │   (7, 'max') │   (8, 'count') │   (8, 'mean') │   (8, 'std') │   (8, 'min') │   (8, '25%') │   (8, '50%') │   (8, '75%') │   (8, 'max') │\n",
            "╞═══════╪════════════════╪═══════════════╪══════════════╪══════════════╪══════════════╪══════════════╪══════════════╪══════════════╪════════════════╪═══════════════╪══════════════╪══════════════╪══════════════╪══════════════╪══════════════╪══════════════╪════════════════╪═══════════════╪══════════════╪══════════════╪══════════════╪══════════════╪══════════════╪══════════════╪════════════════╪═══════════════╪══════════════╪══════════════╪══════════════╪══════════════╪══════════════╪══════════════╪════════════════╪═══════════════╪══════════════╪══════════════╪══════════════╪══════════════╪══════════════╪══════════════╪════════════════╪═══════════════╪══════════════╪══════════════╪══════════════╪══════════════╪══════════════╪══════════════╪════════════════╪═══════════════╪══════════════╪══════════════╪══════════════╪══════════════╪══════════════╪══════════════╪════════════════╪═══════════════╪══════════════╪══════════════╪══════════════╪══════════════╪══════════════╪══════════════╪════════════════╪═══════════════╪══════════════╪══════════════╪══════════════╪══════════════╪══════════════╪══════════════╡\n",
            "│ Old   │         735.00 │          0.62 │         0.06 │         0.47 │         0.58 │         0.61 │         0.65 │         0.85 │         735.00 │          0.68 │         0.10 │         0.48 │         0.60 │         0.66 │         0.77 │         0.89 │         735.00 │          0.74 │         0.13 │         0.46 │         0.61 │         0.76 │         0.84 │         0.96 │         735.00 │          0.62 │         0.06 │         0.47 │         0.58 │         0.61 │         0.65 │         0.85 │         735.00 │          0.66 │         0.09 │         0.45 │         0.59 │         0.65 │         0.73 │         0.87 │         735.00 │          0.68 │         0.10 │         0.48 │         0.60 │         0.66 │         0.77 │         0.89 │         735.00 │          0.74 │         0.13 │         0.46 │         0.61 │         0.76 │         0.84 │         0.96 │         735.00 │          0.66 │         0.09 │         0.45 │         0.59 │         0.65 │         0.73 │         0.87 │         735.00 │          0.69 │         0.06 │         0.49 │         0.64 │         0.69 │         0.73 │         0.86 │\n",
            "├───────┼────────────────┼───────────────┼──────────────┼──────────────┼──────────────┼──────────────┼──────────────┼──────────────┼────────────────┼───────────────┼──────────────┼──────────────┼──────────────┼──────────────┼──────────────┼──────────────┼────────────────┼───────────────┼──────────────┼──────────────┼──────────────┼──────────────┼──────────────┼──────────────┼────────────────┼───────────────┼──────────────┼──────────────┼──────────────┼──────────────┼──────────────┼──────────────┼────────────────┼───────────────┼──────────────┼──────────────┼──────────────┼──────────────┼──────────────┼──────────────┼────────────────┼───────────────┼──────────────┼──────────────┼──────────────┼──────────────┼──────────────┼──────────────┼────────────────┼───────────────┼──────────────┼──────────────┼──────────────┼──────────────┼──────────────┼──────────────┼────────────────┼───────────────┼──────────────┼──────────────┼──────────────┼──────────────┼──────────────┼──────────────┼────────────────┼───────────────┼──────────────┼──────────────┼──────────────┼──────────────┼──────────────┼──────────────┤\n",
            "│ Young │         618.00 │          0.75 │         0.11 │         0.55 │         0.68 │         0.72 │         0.77 │         1.00 │         618.00 │          0.83 │         0.09 │         0.61 │         0.76 │         0.83 │         0.89 │         1.00 │         618.00 │          0.92 │         0.06 │         0.75 │         0.86 │         0.93 │         0.96 │         1.00 │         618.00 │          0.75 │         0.11 │         0.55 │         0.68 │         0.72 │         0.77 │         1.00 │         618.00 │          0.81 │         0.10 │         0.56 │         0.73 │         0.80 │         0.87 │         1.00 │         618.00 │          0.83 │         0.09 │         0.61 │         0.76 │         0.83 │         0.89 │         1.00 │         618.00 │          0.92 │         0.06 │         0.75 │         0.86 │         0.93 │         0.96 │         1.00 │         618.00 │          0.81 │         0.10 │         0.56 │         0.73 │         0.80 │         0.87 │         1.00 │         618.00 │          0.80 │         0.09 │         0.57 │         0.74 │         0.79 │         0.84 │         1.00 │\n",
            "╘═══════╧════════════════╧═══════════════╧══════════════╧══════════════╧══════════════╧══════════════╧══════════════╧══════════════╧════════════════╧═══════════════╧══════════════╧══════════════╧══════════════╧══════════════╧══════════════╧══════════════╧════════════════╧═══════════════╧══════════════╧══════════════╧══════════════╧══════════════╧══════════════╧══════════════╧════════════════╧═══════════════╧══════════════╧══════════════╧══════════════╧══════════════╧══════════════╧══════════════╧════════════════╧═══════════════╧══════════════╧══════════════╧══════════════╧══════════════╧══════════════╧══════════════╧════════════════╧═══════════════╧══════════════╧══════════════╧══════════════╧══════════════╧══════════════╧══════════════╧════════════════╧═══════════════╧══════════════╧══════════════╧══════════════╧══════════════╧══════════════╧══════════════╧════════════════╧═══════════════╧══════════════╧══════════════╧══════════════╧══════════════╧══════════════╧══════════════╧════════════════╧═══════════════╧══════════════╧══════════════╧══════════════╧══════════════╧══════════════╧══════════════╛\n"
          ]
        }
      ]
    },
    {
      "cell_type": "code",
      "source": [
        "X_train, X_test, y_train, y_test = train_test_split(X_selected, y, test_size=0.2, random_state=42)\n",
        "\n",
        "print(y_train.shape)\n",
        "print(X_train.shape)"
      ],
      "metadata": {
        "colab": {
          "base_uri": "https://localhost:8080/"
        },
        "id": "sXRLM3lsadiP",
        "outputId": "142f2a34-9ab9-4d6c-f01b-6389bd882562"
      },
      "id": "sXRLM3lsadiP",
      "execution_count": null,
      "outputs": [
        {
          "output_type": "stream",
          "name": "stdout",
          "text": [
            "(1082,)\n",
            "(1082, 9)\n"
          ]
        }
      ]
    },
    {
      "cell_type": "code",
      "source": [
        "knn = KNeighborsClassifier(n_neighbors=10)\n",
        "knn.fit(X_train, y_train)\n",
        "\n",
        "knn_pred = knn.predict(X_test)\n",
        "knn_accuracy = accuracy_score(y_test, knn_pred)\n",
        "knn_precision = precision_score(y_test, knn_pred)\n",
        "knn_recall = recall_score(y_test, knn_pred)\n",
        "knn_f1 = f1_score(y_test, knn_pred)\n",
        "print(\"KNN Metrics:\")\n",
        "print(\"KNN Accuracy:\", knn_accuracy)\n",
        "\n",
        "print(\"Precision:\", knn_precision)\n",
        "print(\"Recall:\", knn_recall)\n",
        "print(\"F1-score:\", knn_f1)"
      ],
      "metadata": {
        "colab": {
          "base_uri": "https://localhost:8080/"
        },
        "id": "T4nYcptCuX7B",
        "outputId": "165305d5-7335-4f01-b0c6-39501f387202"
      },
      "id": "T4nYcptCuX7B",
      "execution_count": null,
      "outputs": [
        {
          "output_type": "stream",
          "name": "stdout",
          "text": [
            "KNN Metrics:\n",
            "KNN Accuracy: 0.9188191881918819\n",
            "Precision: 0.9577464788732394\n",
            "Recall: 0.8947368421052632\n",
            "F1-score: 0.9251700680272109\n"
          ]
        }
      ]
    },
    {
      "cell_type": "code",
      "source": [
        "rf = RandomForestClassifier(n_estimators=100, random_state=42)\n",
        "rf.fit(X_train, y_train)\n",
        "\n",
        "rf_pred = rf.predict(X_test)\n",
        "rf_accuracy = accuracy_score(y_test, rf_pred)\n",
        "rf_precision = precision_score(y_test, rf_pred)\n",
        "rf_recall = recall_score(y_test, rf_pred)\n",
        "rf_f1 = f1_score(y_test, rf_pred)\n",
        "\n",
        "print(\"Random Forest Metrics:\")\n",
        "print(\"Random Forest Accuracy:\", rf_accuracy)\n",
        "print(\"Precision:\", rf_precision)\n",
        "print(\"Recall:\", rf_recall)\n",
        "print(\"F1-score:\", rf_f1)"
      ],
      "metadata": {
        "colab": {
          "base_uri": "https://localhost:8080/"
        },
        "id": "OwvjdKdUsSgN",
        "outputId": "aa155624-c95c-42a3-d5f6-ae07be6299f0"
      },
      "id": "OwvjdKdUsSgN",
      "execution_count": null,
      "outputs": [
        {
          "output_type": "stream",
          "name": "stdout",
          "text": [
            "Random Forest Metrics:\n",
            "Random Forest Accuracy: 0.9261992619926199\n",
            "Precision: 0.94\n",
            "Recall: 0.9276315789473685\n",
            "F1-score: 0.9337748344370861\n"
          ]
        }
      ]
    },
    {
      "cell_type": "code",
      "source": [
        "rf_cm = confusion_matrix(y_test, rf_pred)\n",
        "plt.figure(figsize=(4, 4))\n",
        "sns.heatmap(rf_cm, annot=True, fmt=\"d\", cmap=\"Blues\", cbar=False,\n",
        "            xticklabels=['Positive', 'Negative'],\n",
        "            yticklabels=['Positive', 'Negative'])\n",
        "plt.title('Confusion Matrix for Random Forest')\n",
        "plt.xlabel('Predicted')\n",
        "plt.ylabel('Actual')\n",
        "plt.show()\n",
        "\n",
        "knn_cm = confusion_matrix(y_test, knn_pred)\n",
        "plt.figure(figsize=(4, 4))\n",
        "sns.heatmap(knn_cm, annot=True, fmt=\"d\", cmap=\"Blues\", cbar=False,\n",
        "            xticklabels=['Positive', 'Negative'],\n",
        "            yticklabels=['Positive', 'Negative'])\n",
        "plt.title('Confusion Matrix for k-NN')\n",
        "plt.xlabel('Predicted')\n",
        "plt.ylabel('Actual')\n",
        "plt.show()"
      ],
      "metadata": {
        "colab": {
          "base_uri": "https://localhost:8080/",
          "height": 803
        },
        "id": "LdhaYiWTYUq6",
        "outputId": "da734777-2bb7-418c-e0c1-feb46bbeb782"
      },
      "id": "LdhaYiWTYUq6",
      "execution_count": null,
      "outputs": [
        {
          "output_type": "display_data",
          "data": {
            "text/plain": [
              "<Figure size 400x400 with 1 Axes>"
            ],
            "image/png": "[encoded data removed]"
          },
          "metadata": {}
        },
        {
          "output_type": "display_data",
          "data": {
            "text/plain": [
              "<Figure size 400x400 with 1 Axes>"
            ],
            "image/png": "[encoded data removed]"
          },
          "metadata": {}
        }
      ]
    },
    {
      "cell_type": "code",
      "source": [
        "knn = KNeighborsClassifier(n_neighbors=10)\n",
        "\n",
        "rf = RandomForestClassifier(n_estimators=100, random_state=42)\n",
        "\n",
        "knn_cv_accuracy = cross_val_score(knn, X_selected, y, cv=5, scoring='accuracy').mean()\n",
        "knn_cv_precision = cross_val_score(knn, X_selected, y, cv=5, scoring='precision').mean()\n",
        "knn_cv_recall = cross_val_score(knn, X_selected, y, cv=5, scoring='recall').mean()\n",
        "knn_cv_f1 = cross_val_score(knn, X_selected, y, cv=5, scoring='f1').mean()\n",
        "\n",
        "rf_cv_accuracy = cross_val_score(rf, X_selected, y, cv=5, scoring='accuracy').mean()\n",
        "rf_cv_precision = cross_val_score(rf, X_selected, y, cv=5, scoring='precision').mean()\n",
        "rf_cv_recall = cross_val_score(rf, X_selected, y, cv=5, scoring='recall').mean()\n",
        "rf_cv_f1 = cross_val_score(rf, X_selected, y, cv=5, scoring='f1').mean()\n",
        "\n"
      ],
      "metadata": {
        "id": "Mln6J4I_WfJW"
      },
      "id": "Mln6J4I_WfJW",
      "execution_count": null,
      "outputs": []
    },
    {
      "cell_type": "code",
      "source": [
        "print(\"5-fold Cross-Validation Metrics:\")\n",
        "print(\"\\nKNN Metrics:\")\n",
        "print(\"KNN Accuracy:\", knn_cv_accuracy)\n",
        "print(\"Precision:\", knn_cv_precision)\n",
        "print(\"Recall:\", knn_cv_recall)\n",
        "print(\"F1-score:\", knn_cv_f1)\n",
        "\n",
        "print(\"\\nRandom Forest Metrics:\")\n",
        "print(\"Random Forest Accuracy:\", rf_cv_accuracy)\n",
        "print(\"Precision:\", rf_cv_precision)\n",
        "print(\"Recall:\", rf_cv_recall)\n",
        "print(\"F1-score:\", rf_cv_f1)"
      ],
      "metadata": {
        "colab": {
          "base_uri": "https://localhost:8080/"
        },
        "id": "eOXXF8leqdyV",
        "outputId": "2e57110f-d289-4d0e-8194-1df724d2eb8e"
      },
      "id": "eOXXF8leqdyV",
      "execution_count": null,
      "outputs": [
        {
          "output_type": "stream",
          "name": "stdout",
          "text": [
            "5-fold Cross-Validation Metrics:\n",
            "\n",
            "KNN Metrics:\n",
            "KNN Accuracy: 0.8092442257755911\n",
            "Precision: 0.8936523567637019\n",
            "Recall: 0.7523809523809524\n",
            "F1-score: 0.7919096114755735\n",
            "\n",
            "Random Forest Metrics:\n",
            "Random Forest Accuracy: 0.8085144184775181\n",
            "Precision: 0.8860615999916396\n",
            "Recall: 0.7659863945578231\n",
            "F1-score: 0.8013847704895968\n"
          ]
        }
      ]
    }
  ],
  "metadata": {
    "kernelspec": {
      "display_name": "Python 3",
      "language": "python",
      "name": "python3"
    },
    "language_info": {
      "codemirror_mode": {
        "name": "ipython",
        "version": 3
      },
      "file_extension": ".py",
      "mimetype": "text/x-python",
      "name": "python",
      "nbconvert_exporter": "python",
      "pygments_lexer": "ipython3",
      "version": "3.8.5"
    },
    "colab": {
      "provenance": []
    }
  },
  "nbformat": 4,
  "nbformat_minor": 5
}